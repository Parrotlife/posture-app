{
 "cells": [
  {
   "cell_type": "markdown",
   "metadata": {},
   "source": [
    "## Warning!"
   ]
  },
  {
   "cell_type": "markdown",
   "metadata": {},
   "source": [
    "This example notebook is not up-to-date with the latest version of Plotly's Python API (version 1.0.\\*). \n",
    "\n",
    "Refer to Plotly's Python [User Guide](http://nbviewer.ipython.org/github/plotly/python-user-guide/blob/master/s00_homepage/s00_homepage.ipynb) \n",
    "and more specifically [section 7.3](http://nbviewer.ipython.org/github/plotly/python-user-guide/blob/master/s7_streaming/s7_streaming_p3-bubbles.ipynb) for an updated version of this notebook.\n",
    "\n",
    "<hr>"
   ]
  },
  {
   "cell_type": "markdown",
   "metadata": {},
   "source": [
    "### Recreating Hans Rosling's Famous Animated Bubble Charts <br>  with Plotly Real-time Streaming Graphs"
   ]
  },
  {
   "cell_type": "markdown",
   "metadata": {},
   "source": [
    "Learn more about real-time streaming graphs with plotly here:\n",
    "\n",
    "[https://github.com/plotly/streaming-demos](https://github.com/plotly/streaming-demos)"
   ]
  },
  {
   "cell_type": "code",
   "execution_count": 14,
   "metadata": {},
   "outputs": [],
   "source": [
    "import chart_studio.plotly as plotly\n",
    "import chart_studio\n",
    "import requests\n",
    "import time\n",
    "import json\n",
    "import math\n",
    "import pprint"
   ]
  },
  {
   "cell_type": "code",
   "execution_count": 8,
   "metadata": {},
   "outputs": [],
   "source": [
    "# Fill in the config.json file in this directory with your plotly username, \n",
    "# plotly API key, and your generated plotly streaming tokens\n",
    "# Sign up to plotly here: https://plot.ly/ssu\n",
    "# View your API key and streaming tokens here: https://plot.ly/settings\n",
    "\n",
    "username = 'Parrotlife'\n",
    "api_key = 'HVithFEqzxhtolNyW0jU'\n",
    "stream_token = '49wpntpsv8'"
   ]
  },
  {
   "cell_type": "code",
   "execution_count": 17,
   "metadata": {},
   "outputs": [],
   "source": [
    "# Initialize your plotly object\n",
    "chart_studio.tools.set_credentials_file(username='Parrotlife', api_key='HVithFEqzxhtolNyW0jU')\n"
   ]
  },
  {
   "cell_type": "code",
   "execution_count": 18,
   "metadata": {},
   "outputs": [
    {
     "ename": "TypeError",
     "evalue": "unsupported operand type(s) for +: 'dict_items' and 'dict_items'",
     "output_type": "error",
     "traceback": [
      "\u001b[0;31m---------------------------------------------------------------------------\u001b[0m",
      "\u001b[0;31mTypeError\u001b[0m                                 Traceback (most recent call last)",
      "\u001b[0;32m<ipython-input-18-b16fde92d276>\u001b[0m in \u001b[0;36m<module>\u001b[0;34m()\u001b[0m\n\u001b[1;32m      8\u001b[0m     \u001b[0;34m'tickfont'\u001b[0m\u001b[0;34m:\u001b[0m \u001b[0;34m{\u001b[0m\u001b[0;34m'size'\u001b[0m\u001b[0;34m:\u001b[0m \u001b[0;36m13\u001b[0m\u001b[0;34m,\u001b[0m \u001b[0;34m'color'\u001b[0m\u001b[0;34m:\u001b[0m \u001b[0;34m'rgb(67,67,67)'\u001b[0m\u001b[0;34m}\u001b[0m\u001b[0;34m\u001b[0m\u001b[0m\n\u001b[1;32m      9\u001b[0m }\n\u001b[0;32m---> 10\u001b[0;31m \u001b[0mxaxis\u001b[0m \u001b[0;34m=\u001b[0m \u001b[0mdict\u001b[0m\u001b[0;34m(\u001b[0m\u001b[0;34m{\u001b[0m\u001b[0;34m'range'\u001b[0m\u001b[0;34m:\u001b[0m \u001b[0;34m[\u001b[0m\u001b[0;36m0\u001b[0m\u001b[0;34m,\u001b[0m \u001b[0;36m5e4\u001b[0m\u001b[0;34m]\u001b[0m\u001b[0;34m,\u001b[0m \u001b[0;34m'type'\u001b[0m\u001b[0;34m:\u001b[0m \u001b[0;34m'log'\u001b[0m\u001b[0;34m,\u001b[0m \u001b[0;34m'title'\u001b[0m\u001b[0;34m:\u001b[0m \u001b[0;34m'GDP per Capita'\u001b[0m\u001b[0;34m}\u001b[0m\u001b[0;34m.\u001b[0m\u001b[0mitems\u001b[0m\u001b[0;34m(\u001b[0m\u001b[0;34m)\u001b[0m \u001b[0;34m+\u001b[0m \u001b[0maxes\u001b[0m\u001b[0;34m.\u001b[0m\u001b[0mitems\u001b[0m\u001b[0;34m(\u001b[0m\u001b[0;34m)\u001b[0m\u001b[0;34m)\u001b[0m\u001b[0;34m\u001b[0m\u001b[0m\n\u001b[0m\u001b[1;32m     11\u001b[0m \u001b[0myaxis\u001b[0m \u001b[0;34m=\u001b[0m \u001b[0mdict\u001b[0m\u001b[0;34m(\u001b[0m\u001b[0;34m{\u001b[0m\u001b[0;34m'range'\u001b[0m\u001b[0;34m:\u001b[0m \u001b[0;34m[\u001b[0m\u001b[0;36m30\u001b[0m\u001b[0;34m,\u001b[0m \u001b[0;36m83\u001b[0m\u001b[0;34m]\u001b[0m\u001b[0;34m,\u001b[0m \u001b[0;34m'title'\u001b[0m\u001b[0;34m:\u001b[0m \u001b[0;34m'Life Expectancy'\u001b[0m\u001b[0;34m,\u001b[0m \u001b[0;34m'exponentformat'\u001b[0m\u001b[0;34m:\u001b[0m \u001b[0;34m'power'\u001b[0m\u001b[0;34m}\u001b[0m\u001b[0;34m.\u001b[0m\u001b[0mitems\u001b[0m\u001b[0;34m(\u001b[0m\u001b[0;34m)\u001b[0m \u001b[0;34m+\u001b[0m \u001b[0maxes\u001b[0m\u001b[0;34m.\u001b[0m\u001b[0mitems\u001b[0m\u001b[0;34m(\u001b[0m\u001b[0;34m)\u001b[0m\u001b[0;34m)\u001b[0m\u001b[0;34m\u001b[0m\u001b[0m\n\u001b[1;32m     12\u001b[0m \u001b[0;34m\u001b[0m\u001b[0m\n",
      "\u001b[0;31mTypeError\u001b[0m: unsupported operand type(s) for +: 'dict_items' and 'dict_items'"
     ]
    }
   ],
   "source": [
    "# Embed the stream token in one of the traces of a plotly-data object - one token per trace\n",
    "axes = {\n",
    "    'showgrid': False,\n",
    "    'showline': False,\n",
    "    'ticks': '',\n",
    "    'zeroline': False,\n",
    "    'titlefont': {'size': 16, 'color': 'rgb(67,67,67)'},\n",
    "    'tickfont': {'size': 13, 'color': 'rgb(67,67,67)'}\n",
    "}\n",
    "xaxis = dict({'range': [0, 5e4], 'type': 'log', 'title': 'GDP per Capita'}.items() + axes.items())\n",
    "yaxis = dict({'range': [30, 83], 'title': 'Life Expectancy', 'exponentformat': 'power'}.items() + axes.items())\n",
    "\n",
    "r = p.plot([{\n",
    "            'x':[],\n",
    "            'y':[],\n",
    "            'text':[],\n",
    "            'mode': 'markers',\n",
    "            'marker': {\n",
    "                'sizemode': 'area',\n",
    "                'sizeref': 200000,#0.05,\n",
    "                'opacity': 0.55,\n",
    "                'line': {\n",
    "                    'width': 1,\n",
    "                    'color': 'white'\n",
    "                }\n",
    "            },\n",
    "            'showlegend': False,\n",
    "            'stream': {\n",
    "                'token': stream_token, 'maxpoints': 29\n",
    "            }},\n",
    "        ],\n",
    "    layout={\n",
    "        'xaxis': xaxis,\n",
    "        'yaxis': yaxis,\n",
    "        'titlefont':{'size': 32, 'color': 'rgb(67,67,67)'},\n",
    "        'legend': {\n",
    "            'bgcolor': 'rgba(255, 255, 255, 0)',\n",
    "            'bordercolor': 'rgba(255, 255, 255, 0)',\n",
    "            'fontcolor': 'rgb(67, 67, 67)',\n",
    "            'size': 13,\n",
    "            'x': 100,\n",
    "            'y': 0.95\n",
    "        }  \n",
    "    },\n",
    "    filename='Hans Rosling Streaming', fileopt='overwrite', width=1000, height=700)\n",
    "\n",
    "pprint.pprint(r)"
   ]
  },
  {
   "cell_type": "code",
   "execution_count": 5,
   "metadata": {},
   "outputs": [],
   "source": [
    "# Let's load up the Hans Rosling Gapminder Data\n",
    "# It's saved as a JSON file in a gist, you can check out the file here: https://gist.github.com/chriddyp/9167305\n",
    "def readjson(url):\n",
    "    import urllib2, StringIO, json\n",
    "    response = urllib2.urlopen(url).read()\n",
    "    data = json.loads(response)\n",
    "    return data\n",
    "\n",
    "data = readjson(\"https://gist.githubusercontent.com/chriddyp/9167305/raw/db58a28b2144121cbf694ab1b8f73b142b96a464/gapminder.json\")"
   ]
  },
  {
   "cell_type": "code",
   "execution_count": 6,
   "metadata": {},
   "outputs": [
    {
     "name": "stdout",
     "output_type": "stream",
     "text": [
      "[u'Canada', u'Brazil', u'Sao Tome and Principe', u'Guernsey', u'Turkmenistan', u'Saint Helena', u'Serbia and Montenegro', u'Ireland', u'Lithuania', u'Cambodia']\n"
     ]
    }
   ],
   "source": [
    "# Let's just take a quick look at the JSON file\n",
    "# The keys are country names:\n",
    "print data.keys()[0:10]"
   ]
  },
  {
   "cell_type": "code",
   "execution_count": 7,
   "metadata": {},
   "outputs": [
    {
     "name": "stdout",
     "output_type": "stream",
     "text": [
      "[u'gdp', u'lifeExp', u'continent', u'pop', u'years']\n"
     ]
    }
   ],
   "source": [
    "# And for each country, we have historical data about the GDP, Life Expectancy and Population. \n",
    "# Also, the continent/region that the country belongs to\n",
    "print data['Canada'].keys()"
   ]
  },
  {
   "cell_type": "code",
   "execution_count": 8,
   "metadata": {},
   "outputs": [
    {
     "name": "stdout",
     "output_type": "stream",
     "text": [
      "[10581.265520182, 10932.4667838283, 11367.1611248765, 11586.6145455354, 11173.2594978109, 11901.5094889284, 12555.5494657206, 12489.9500550468, 12384.4101756439, 12590.8003302521]\n"
     ]
    }
   ],
   "source": [
    "# The data is just stored as arrays, here are some values:\n",
    "print data['Canada']['gdp'][0:10]"
   ]
  },
  {
   "cell_type": "code",
   "execution_count": 9,
   "metadata": {},
   "outputs": [],
   "source": [
    "# interpolate the raw data - insert 3 values between every year\n",
    "import numpy as np\n",
    "years = np.linspace(1950, 2007, (2007-1950)*1+1)\n",
    "for country in data:\n",
    "    if len(data[country]['years'])>0:\n",
    "        x = np.linspace(data[country]['years'][0], \n",
    "                        data[country]['years'][-1], \n",
    "                        (data[country]['years'][-1] - data[country]['years'][0])*12+1)\n",
    "        data[country]['gdp'] = np.interp(x, data[country]['years'], data[country]['gdp'])\n",
    "        data[country]['lifeExp'] = np.interp(x, data[country]['years'], data[country]['lifeExp'])\n",
    "        data[country]['pop'] = np.interp(x, data[country]['years'], data[country]['pop'])    \n",
    "        data[country]['years'] = x        "
   ]
  },
  {
   "cell_type": "code",
   "execution_count": 10,
   "metadata": {},
   "outputs": [],
   "source": [
    "# To stream data, initialize a plotly streaming object with a streaming token and write to it\n",
    "# In this case, we'll yield an object in the form:\n",
    "# {'x': [...], 'y': [...], 'text': [...], 'marker': {'size': [...], 'color': [...]}}\n",
    "# Where the 'x' data is each country's GDP\n",
    "#           'y' data is each country's Life Expectancy\n",
    "#           'text' data is each country's name\n",
    "#           'size' data is a scaled version of the country's population\n",
    "#           'color' data is color coded to the continents\n",
    "# Each data object will correspond to a specific year, and we'll \"yield\" a new object each year\n",
    "# This data object will stream to to our plotly graph, updating it in real-time!\n",
    "\n",
    "s = plotly.stream(stream_token)\n",
    "\n",
    "yearCnt = 0\n",
    "continent_colors = {'Asia': '#1b9e77', \n",
    "    'Middle East, North Africa, and Greater Arabia': '#d95f02', \n",
    "    'Europe': '#7570b3', \n",
    "    'North America': '#e7298a',\n",
    "    'Central America and the Caribbean': '#66a61e',\n",
    "    'South America': '#e6ab02',\n",
    "    'Sub-Saharan Africa': '#a6761d',\n",
    "    'Oceania': '#666666'}\n",
    "while True:\n",
    "    year = years[yearCnt%len(years)]\n",
    "    graph = {   'x': [],\n",
    "                'y': [],\n",
    "                'text': [],\n",
    "                'marker': {\n",
    "                    'size': [],\n",
    "                    'color': []\n",
    "                }\n",
    "            }\n",
    "\n",
    "    for country in data:\n",
    "        # find the index of the year\n",
    "        i = np.where(data[country]['years']==year)[0]\n",
    "        if len(i)>0:\n",
    "            graph['x'].extend(data[country]['gdp'][i])\n",
    "            graph['y'].extend(data[country]['lifeExp'][i])\n",
    "            graph['marker']['size'].extend(data[country]['pop'][i])\n",
    "            graph['text'].append(country)\n",
    "            graph['marker']['color'].append(continent_colors[data[country]['continent']])\n",
    "\n",
    "    if year%1 == 0:\n",
    "        graph['layout'] = {'title': str(int(year))}\n",
    "\n",
    "    s.write(graph)\n",
    "    time.sleep(0.75)\n",
    "    yearCnt+=1"
   ]
  },
  {
   "cell_type": "code",
   "execution_count": 11,
   "metadata": {},
   "outputs": [
    {
     "data": {
      "text/html": [
       "<iframe height=\"750\" id=\"igraph\" scrolling=\"no\" seamless=\"seamless\" src=\"https://plot.ly/~streaming-demos/3/900/700\" width=\"950\"></iframe>"
      ],
      "text/plain": [
       "<IPython.core.display.HTML at 0x104b88fd0>"
      ]
     },
     "execution_count": 11,
     "metadata": {},
     "output_type": "execute_result"
    }
   ],
   "source": [
    "# We can view the graph in the web browser, or embedded as an IFrame inside the notebook\n",
    "plotly.display(r['url'])"
   ]
  },
  {
   "cell_type": "markdown",
   "metadata": {},
   "source": [
    "### Give it a try yourself!\n",
    "\n",
    "##### More Streaming IPython Notebooks:\n",
    "\n",
    "[http://nbviewer.ipython.org/github/plotly/Streaming-Demos/tree/master/IPython%20examples/](http://nbviewer.ipython.org/github/plotly/Streaming-Demos/tree/master/IPython%20examples/)\n",
    "\n",
    "##### More about Plotly Streaming \n",
    "\n",
    "[https://github.com/plotly/Streaming-Demos](https://github.com/plotly/Streaming-Demos)\n",
    "\n",
    "##### Get in touch!\n",
    "\n",
    "[http://twitter.com/plotlygraphs](@plotlygraphs)\n",
    "\n",
    "[https://facebook.com/plotly](https://facebook.com/plotly)\n",
    "\n",
    "<ben@plot.ly>"
   ]
  },
  {
   "cell_type": "code",
   "execution_count": 4,
   "metadata": {},
   "outputs": [
    {
     "data": {
      "text/html": [
       "<style>\n",
       "    /*body {\n",
       "        background-color: #F5F5F5;\n",
       "    }*/\n",
       "    div.cell{\n",
       "        width: 850px;\n",
       "        margin-left: 10% !important;\n",
       "        margin-right: auto;\n",
       "    }\n",
       "    h1 {\n",
       "        font-family: \"Open sans\",verdana,arial,sans-serif;\n",
       "    }\n",
       "    .text_cell_render h1 {\n",
       "        font-weight: 200;\n",
       "        font-size: 40pt;\n",
       "        line-height: 100%;\n",
       "        color:#447adb;\n",
       "        margin-bottom: 0em;\n",
       "        margin-top: 0em;\n",
       "        display: block;\n",
       "        white-space: nowrap;\n",
       "    } \n",
       "    h2 {\n",
       "        font-family: \"Open sans\",verdana,arial,sans-serif;\n",
       "        text-indent:1em;\n",
       "    }\n",
       "    .text_cell_render h2 {\n",
       "        font-weight: 200;\n",
       "        font-size: 20pt;\n",
       "        font-style: italic;\n",
       "        line-height: 100%;\n",
       "        color:#447adb;\n",
       "        margin-bottom: 1.5em;\n",
       "        margin-top: 0.5em;\n",
       "        display: block;\n",
       "        white-space: nowrap;\n",
       "    } \n",
       "    h3 {\n",
       "        font-family: \"Open sans\",verdana,arial,sans-serif;\n",
       "    }\n",
       "    .text_cell_render h3 {\n",
       "        font-weight: 300;\n",
       "        font-size: 18pt;\n",
       "        line-height: 100%;\n",
       "        color:#447adb;\n",
       "        margin-bottom: 0.5em;\n",
       "        margin-top: 2em;\n",
       "        display: block;\n",
       "        white-space: nowrap;\n",
       "    }\n",
       "    h4 {\n",
       "        font-family: \"Open sans\",verdana,arial,sans-serif;\n",
       "    }\n",
       "    .text_cell_render h4 {\n",
       "        font-weight: 300;\n",
       "        font-size: 16pt;\n",
       "        color:#447adb;\n",
       "        margin-bottom: 0.5em;\n",
       "        margin-top: 0.5em;\n",
       "        display: block;\n",
       "        white-space: nowrap;\n",
       "    }\n",
       "    h5 {\n",
       "        font-family: \"Open sans\",verdana,arial,sans-serif;\n",
       "    }\n",
       "    .text_cell_render h5 {\n",
       "        font-weight: 300;\n",
       "        font-style: normal;\n",
       "        color: #1d3b84;\n",
       "        font-size: 16pt;\n",
       "        margin-bottom: 0em;\n",
       "        margin-top: 1.5em;\n",
       "        display: block;\n",
       "        white-space: nowrap;\n",
       "    }\n",
       "    div.text_cell_render{\n",
       "        font-family: \"Open sans\",verdana,arial,sans-serif;\n",
       "        line-height: 135%;\n",
       "        font-size: 125%;\n",
       "        width:750px;\n",
       "        margin-left:auto;\n",
       "        margin-right:auto;\n",
       "        text-align:justify;\n",
       "        text-justify:inter-word;\n",
       "    }\n",
       "    div.output_subarea.output_text.output_pyout {\n",
       "        overflow-x: auto;\n",
       "        overflow-y: scroll;\n",
       "        max-height: 300px;\n",
       "    }\n",
       "    div.output_subarea.output_stream.output_stdout.output_text {\n",
       "        overflow-x: auto;\n",
       "        overflow-y: scroll;\n",
       "        max-height: 300px;\n",
       "    }\n",
       "    code{\n",
       "      font-size: 78%;\n",
       "    }\n",
       "    .rendered_html code{\n",
       "    background-color: transparent;\n",
       "    }\n",
       "    ul{\n",
       "        /* color:#447adb; */  // colors text too\n",
       "        margin: 2em;\n",
       "    }\n",
       "    ul li{\n",
       "        padding-left: 0.5em; \n",
       "        margin-bottom: 0.5em; \n",
       "        margin-top: 0.5em; \n",
       "    }\n",
       "    ul li li{\n",
       "        padding-left: 0.2em; \n",
       "        margin-bottom: 0.2em; \n",
       "        margin-top: 0.2em; \n",
       "    }\n",
       "    ol{\n",
       "        /* color:#447adb; */  // colors text too\n",
       "        margin: 2em;\n",
       "    }\n",
       "    ol li{\n",
       "        padding-left: 0.5em; \n",
       "        margin-bottom: 0.5em; \n",
       "        margin-top: 0.5em; \n",
       "    }\n",
       "    /*.prompt{\n",
       "        display: None;\n",
       "    } */\n",
       "    ul li{\n",
       "        padding-left: 0.5em; \n",
       "        margin-bottom: 0.5em; \n",
       "        margin-top: 0.2em; \n",
       "    }\n",
       "    a:link{\n",
       "       font-weight: bold;\n",
       "       color:#447adb;\n",
       "    }\n",
       "    a:visited{\n",
       "       font-weight: bold;\n",
       "       color: #1d3b84;\n",
       "    }\n",
       "    a:hover{\n",
       "       font-weight: bold;\n",
       "       color: #1d3b84;\n",
       "    }\n",
       "    a:focus{\n",
       "       font-weight: bold;\n",
       "       color:#447adb;\n",
       "    }\n",
       "    a:active{\n",
       "       font-weight: bold;\n",
       "       color:#447adb;\n",
       "    }\n",
       "    .rendered_html :link {\n",
       "       text-decoration: none; \n",
       "    }\n",
       "    .rendered_html :hover {\n",
       "       text-decoration: none; \n",
       "    }\n",
       "    .rendered_html :visited {\n",
       "      text-decoration: none;\n",
       "    }\n",
       "    .rendered_html :focus {\n",
       "      text-decoration: none;\n",
       "    }\n",
       "    .rendered_html :active {\n",
       "      text-decoration: none;\n",
       "    }\n",
       "    .warning{\n",
       "        color: rgb( 240, 20, 20 )\n",
       "    } \n",
       "    hr {\n",
       "      color: #f3f3f3;\n",
       "      background-color: #f3f3f3;\n",
       "      height: 1px;\n",
       "    }\n",
       "    blockquote{\n",
       "      display:block;\n",
       "      background: #f3f3f3;\n",
       "      font-family: \"Open sans\",verdana,arial,sans-serif;\n",
       "      width:610px;\n",
       "      padding: 15px 15px 15px 15px;\n",
       "      text-align:justify;\n",
       "      text-justify:inter-word;\n",
       "      }\n",
       "      blockquote p {\n",
       "        margin-bottom: 0;\n",
       "        line-height: 125%;\n",
       "        font-size: 100%;\n",
       "      }\n",
       "   /* element.style {\n",
       "    } */  \n",
       "</style>\n",
       "<script>\n",
       "    MathJax.Hub.Config({\n",
       "                        TeX: {\n",
       "                           extensions: [\"AMSmath.js\"]\n",
       "                           },\n",
       "                tex2jax: {\n",
       "                    inlineMath: [ [\"$\",\"$\"], [\"\\\\(\",\"\\\\)\"] ],\n",
       "                    displayMath: [ [\"$$\",\"$$\"], [\"\\\\[\",\"\\\\]\"] ]\n",
       "                },\n",
       "                displayAlign: \"center\", // Change this to \"center\" to center equations.\n",
       "                \"HTML-CSS\": {\n",
       "                    styles: {\".MathJax_Display\": {\"margin\": 4}}\n",
       "                }\n",
       "        });\n",
       "</script>\n"
      ],
      "text/plain": [
       "<IPython.core.display.HTML at 0x7f18d012a3d0>"
      ]
     },
     "execution_count": 4,
     "metadata": {},
     "output_type": "execute_result"
    }
   ],
   "source": [
    "# CSS styling within IPython notebook\n",
    "from IPython.core.display import HTML\n",
    "import urllib2\n",
    "def css_styling():\n",
    "    url = 'https://raw.githubusercontent.com/plotly/python-user-guide/master/custom.css'\n",
    "    styles = urllib2.urlopen(url).read()\n",
    "    return HTML(styles)\n",
    "\n",
    "css_styling()"
   ]
  },
  {
   "cell_type": "code",
   "execution_count": null,
   "metadata": {},
   "outputs": [],
   "source": []
  }
 ],
 "metadata": {
  "kernelspec": {
   "display_name": "Python 3",
   "language": "python",
   "name": "python3"
  },
  "language_info": {
   "codemirror_mode": {
    "name": "ipython",
    "version": 3
   },
   "file_extension": ".py",
   "mimetype": "text/x-python",
   "name": "python",
   "nbconvert_exporter": "python",
   "pygments_lexer": "ipython3",
   "version": "3.6.4"
  }
 },
 "nbformat": 4,
 "nbformat_minor": 1
}
